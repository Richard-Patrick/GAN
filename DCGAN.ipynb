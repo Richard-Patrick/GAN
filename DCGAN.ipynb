{
 "cells": [
  {
   "cell_type": "code",
   "execution_count": null,
   "id": "6ee87646",
   "metadata": {
    "vscode": {
     "languageId": "plaintext"
    }
   },
   "outputs": [],
   "source": [
    "import tensorflow as tf\n",
    "from tensorflow.keras.layers import Input, Conv2D, BatchNormalization, Activation, UpSampling2D"
   ]
  },
  {
   "cell_type": "code",
   "execution_count": null,
   "id": "267ffcf2",
   "metadata": {
    "vscode": {
     "languageId": "plaintext"
    }
   },
   "outputs": [],
   "source": [
    "def build_generator():\n",
    "    input_img = Input(shape=(128, 128, 3))\n",
    "    \n",
    "    x = Conv2D(64, (3,3), padding='same')(input_img)\n",
    "    x = BatchNormalization()(x)\n",
    "    x = Activation('relu')(x)\n",
    "\n",
    "    x = Conv2D(128, (3,3), padding='same')(x)\n",
    "    x = BatchNormalization()(x)\n",
    "    x = Activation('relu')(x)\n",
    "\n",
    "    x = UpSampling2D(size=(2, 2))(x)\n",
    "    x = Conv2D(64, (3,3), padding='same')(x)\n",
    "    x = BatchNormalization()(x)\n",
    "    x = Activation('relu')(x)\n",
    "\n",
    "    output_img = Conv2D(3, (3,3), padding='same', activation='tanh')(x)\n",
    "\n",
    "    return tf.keras.Model(input_img, output_img)\n",
    "\n"
   ]
  },
  {
   "cell_type": "code",
   "execution_count": null,
   "metadata": {
    "vscode": {
     "languageId": "plaintext"
    }
   },
   "outputs": [],
   "source": [
    "def build_discriminator():\n",
    "    input_img = Input(shape=(128, 128, 3))\n",
    "    \n",
    "    x = Conv2D(64, (3,3), padding='same')(input_img)\n",
    "    x = BatchNormalization()(x)\n",
    "    x = Activation('relu')(x)\n",
    "\n",
    "    x = Conv2D(128, (3,3), padding='same')(x)\n",
    "    x = BatchNormalization()(x)\n",
    "    x = Activation('relu')(x)\n",
    "\n",
    "    x = tf.keras.layers.GlobalAveragePooling2D()(x)\n",
    "    validity = tf.keras.layers.Dense(1, activation='sigmoid')(x)\n",
    "    \n",
    "    return tf.keras.Model(input_img, validity)\n",
    "\n",
    "# Loss and Optimizers\n",
    "loss_object = tf.keras.losses.BinaryCrossentropy(from_logits=True)\n",
    "generator_optimizer = tf.keras.optimizers.Adam(2e-4, beta_1=0.5)\n",
    "discriminator_optimizer = tf.keras.optimizers.Adam(2e-4, beta_1=0.5)"
   ]
  },
  {
   "cell_type": "code",
   "execution_count": null,
   "metadata": {
    "vscode": {
     "languageId": "plaintext"
    }
   },
   "outputs": [],
   "source": [
    "# Cycle-consistency loss\n",
    "def cycle_consistency_loss(real_image, cycled_image):\n",
    "    return tf.reduce_mean(tf.abs(real_image - cycled_image))\n",
    "\n",
    "# Training loop would involve:\n",
    "# 1. Generating an image with generator.\n",
    "# 2. Passing the generated image through the discriminator.\n",
    "# 3. Computing the generator and discriminator losses.\n",
    "# 4. Backpropagating through both networks.\n",
    "\n",
    "# This is just a basic architecture and loop. More is needed for a complete implementation!"
   ]
  }
 ],
 "metadata": {
  "kernelspec": {
   "display_name": "Python 3 (ipykernel)",
   "language": "python",
   "name": "python3"
  },
  "language_info": {
   "codemirror_mode": {
    "name": "ipython",
    "version": 3
   },
   "file_extension": ".py",
   "mimetype": "text/x-python",
   "name": "python",
   "nbconvert_exporter": "python",
   "pygments_lexer": "ipython3",
   "version": "3.10.12"
  }
 },
 "nbformat": 4,
 "nbformat_minor": 5
}
